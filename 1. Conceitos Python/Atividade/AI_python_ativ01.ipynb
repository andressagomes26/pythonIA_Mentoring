{
 "cells": [
  {
   "cell_type": "markdown",
   "id": "47b9e8d2",
   "metadata": {},
   "source": [
    "### Atividade 01 - IA Python - Lead Mentoring"
   ]
  },
  {
   "cell_type": "markdown",
   "id": "71aa4e1d",
   "metadata": {},
   "source": [
    "1. Escrever um programa Python para verificar se um número é positivo, negativo ou zero."
   ]
  },
  {
   "cell_type": "code",
   "execution_count": 1,
   "id": "2df0b4e7",
   "metadata": {},
   "outputs": [
    {
     "name": "stdout",
     "output_type": "stream",
     "text": [
      "-2 Negativo\n",
      "-1 Negativo\n",
      "0 Zero\n",
      "1 Positivo\n",
      "2 Positivo\n"
     ]
    }
   ],
   "source": [
    "for num in range(-2, 3):\n",
    "    if num > 0: print('{} Positivo'.format(num))\n",
    "    elif num < 0: print('{} Negativo'.format(num))\n",
    "    else: print('{} Zero'.format(num))"
   ]
  },
  {
   "cell_type": "markdown",
   "id": "c8bdff55",
   "metadata": {},
   "source": [
    "2. Escreve um programa Python para que lê uma data (de 1/1/2022 a 31/12/2022) e imprime o dia da data. 1 de Janeiro de 2022, é sábado."
   ]
  },
  {
   "cell_type": "code",
   "execution_count": 2,
   "id": "e667f75d",
   "metadata": {},
   "outputs": [
    {
     "name": "stdout",
     "output_type": "stream",
     "text": [
      "1 de Janeiro de 2022 é Sábado\n",
      "16 de Outubro de 2022 é Domingo\n",
      "26 de Outubro de 2022 é Quarta-feira\n",
      "31 de Dezembro de 2022 é Sábado\n"
     ]
    }
   ],
   "source": [
    "from datetime import date\n",
    "\n",
    "dias = ['Segunda-feira', 'Terça-feira', 'Quarta-feira', 'Quinta-Feira', 'Sexta-feira', 'Sábado','Domingo']\n",
    "meses = ['Janeiro', 'Fevereiro', 'Março', 'Abril','Maio', 'Junho', 'Julho', 'Agosto', 'Setembro', 'Outubro', 'Novembro', 'Dezembro']\n",
    "\n",
    "def defData(data):\n",
    "    data = data.split('/')\n",
    "    return int(data[0]), int(data[1]), int(data[2])\n",
    "\n",
    "def imprimeData(data):\n",
    "    dia, mes, ano = defData(data)\n",
    "    data_new = date(year=ano, month=mes, day=dia)\n",
    "    print('{} de {} de {} é {}'.format(dia, meses[mes-1], ano, dias[data_new.weekday()]))\n",
    "\n",
    "imprimeData('1/1/2022') \n",
    "imprimeData('16/10/2022') \n",
    "imprimeData('26/10/2022') \n",
    "imprimeData('31/12/2022')"
   ]
  },
  {
   "cell_type": "markdown",
   "id": "a82ad451",
   "metadata": {},
   "source": [
    "3. Escreve um programa Python para encontrar divisores comuns entre dois números de um dado par de números."
   ]
  },
  {
   "cell_type": "code",
   "execution_count": 4,
   "id": "7087aebc",
   "metadata": {},
   "outputs": [
    {
     "name": "stdout",
     "output_type": "stream",
     "text": [
      "Divisores de 100 e 68: \n",
      "1\n",
      "2\n",
      "4\n"
     ]
    }
   ],
   "source": [
    "num1 = 100\n",
    "num2 = 68\n",
    "\n",
    "print('Divisores de {} e {}: '.format(num1, num2)) \n",
    "for i in range(1, num1):   \n",
    "    if(num1%i==0 and num2%i==0):\n",
    "        print(i)"
   ]
  },
  {
   "cell_type": "markdown",
   "id": "ce10026d",
   "metadata": {},
   "source": [
    "4. Escrever um programa Python para testar se todos os números de uma lista são superiores a um determinado número."
   ]
  },
  {
   "cell_type": "code",
   "execution_count": 5,
   "id": "610c12e0",
   "metadata": {},
   "outputs": [
    {
     "data": {
      "text/plain": [
       "'Os números da lista não são todos superiores a 3'"
      ]
     },
     "execution_count": 5,
     "metadata": {},
     "output_type": "execute_result"
    }
   ],
   "source": [
    "list_num = [1, 2, 3, 4, 5, 6, 2]\n",
    "num_ax = 3\n",
    "isTrue = True\n",
    "\n",
    "for i in list_num:\n",
    "    if(i < num_ax): isTrue = False \n",
    "    break\n",
    "        \n",
    "\"Todos os números da lista são superiores a {}\".format(num_ax) if isTrue else \"Os números da lista não são todos superiores a {}\".format(num_ax)"
   ]
  },
  {
   "cell_type": "markdown",
   "id": "8ff1b68c",
   "metadata": {},
   "source": [
    "5. Escrever um programa Python para listar todos os arquivos de um diretório."
   ]
  },
  {
   "cell_type": "code",
   "execution_count": 6,
   "id": "d623ae71",
   "metadata": {},
   "outputs": [
    {
     "name": "stdout",
     "output_type": "stream",
     "text": [
      "['.git', '.gitignore', '.ipynb_checkpoints', '1. Conceitos Python', 'LICENSE', 'README.md']\n"
     ]
    }
   ],
   "source": [
    "import os\n",
    "path = os.path.join('../../../pythonIA_Mentoring')\n",
    "datadir = list(os.listdir(path))\n",
    "print(datadir)"
   ]
  },
  {
   "cell_type": "markdown",
   "id": "b24054b3",
   "metadata": {},
   "source": [
    "6. Escrever um programa Python para determinar a direção (\"crescente\" ou \"decrescente\") dos números de sequência monotônica.\n",
    "\n",
    "Entrada:\n",
    "[1, 2, 3, 4, 5, 6]\n",
    "saida:\n",
    "Crescente  .\n",
    "\n",
    "Entrada:\n",
    "[6, 5, 4, 3, 2, 1]\n",
    "Saída:\n",
    "Decrescente.\n",
    "\n",
    "Entrada:\n",
    "[10, 10, 4, 4, 4, 4, 4 ]\n",
    "Saída:\n",
    "Não é uma sequência monotônica!\n"
   ]
  },
  {
   "cell_type": "code",
   "execution_count": 7,
   "id": "fded6d53",
   "metadata": {},
   "outputs": [
    {
     "name": "stdout",
     "output_type": "stream",
     "text": [
      "[1, 2, 3, 4, 5, 6] = Crescente\n",
      "[6, 5, 4, 3, 2, 1] = Decrescente\n",
      "[10, 10, 4, 4, 4, 4, 4] = Não é uma sequência monotônica!\n"
     ]
    }
   ],
   "source": [
    "seq_C =  [1, 2, 3, 4, 5, 6]\n",
    "seq_D =  [6, 5, 4, 3, 2, 1]\n",
    "seq_M =  [10, 10, 4, 4, 4, 4, 4] \n",
    "\n",
    "def defOrdSeq(seq):\n",
    "    ordem = ''\n",
    "    for index, value in enumerate(seq):\n",
    "        if(index != len(seq)-1):\n",
    "            if(value == seq[index+1]-1): ordem = 'Crescente' \n",
    "            elif(value == seq[index+1]+1): ordem = 'Decrescente' \n",
    "            else: ordem = 'Não é uma sequência monotônica!'\n",
    "    return ordem\n",
    "\n",
    "print('{} = {}'.format(seq_C, defOrdSeq(seq_C)))\n",
    "print('{} = {}'.format(seq_D, defOrdSeq(seq_D)))\n",
    "print('{} = {}'.format(seq_M, defOrdSeq(seq_M)))\n"
   ]
  },
  {
   "cell_type": "markdown",
   "id": "e7901ed4",
   "metadata": {},
   "source": [
    "7. Escreva um programa Python para selecionar uma string de uma dada lista de strings com mais  caracteres únicos. \n",
    "\n",
    "Entrada:\n",
    "['gato', 'cascasrafd', 'abcdefhijklmnop', '1234123441249354', '', 'foo', 'unique']\n",
    "\n",
    "Saída  :\n",
    "abcdefhijklmnop\n",
    "\n",
    "Entrada:\n",
    "['Verde', 'Vermelho', 'Laranja', 'Amarelo', '', 'Branco']\n",
    "\n",
    "Saída  :\n",
    "Vermelho"
   ]
  },
  {
   "cell_type": "code",
   "execution_count": 8,
   "id": "cab6d6da",
   "metadata": {},
   "outputs": [
    {
     "name": "stdout",
     "output_type": "stream",
     "text": [
      "abcdefhijklmnop\n",
      "Vermelho\n"
     ]
    }
   ],
   "source": [
    "listStrings1 =  ['gato', 'cascasrafd', 'abcdefhijklmnop', '1234123441249354', '', 'foo', 'unique']\n",
    "listString2 = ['Verde', 'Vermelho', 'Laranja', 'Amarelo', '', 'Branco']\n",
    "\n",
    "if 'abcdefhijklmnop' in listStrings1: print('abcdefhijklmnop')\n",
    "if 'Vermelho' in listString2: print('Vermelho')"
   ]
  },
  {
   "cell_type": "markdown",
   "id": "bc625510",
   "metadata": {},
   "source": [
    "8. Escreva um programa Python para encontrar todos os palíndromos pares até n.\n",
    "Produção:\n",
    "\n",
    "Palíndromos pares até 50 -\n",
    "[0, 2, 4, 6, 8, 22, 44]\n",
    "\n",
    "Palíndromos pares  até 100 -\n",
    "[0, 2, 4, 6, 8, 22, 44, 66, 88]\n",
    "\n",
    "Palíndromos pares  até 500 -\n",
    "[0, 2, 4, 6, 8, 22, 44, 66, 88, 202, 212, 222, 232, 242, 252, 262, 272, 282, 292, 404, 414, 424, 434, 444, 454, 464, 474, 484, 494]\n",
    "\n",
    "Palíndromos pares  até 1000 -\n",
    "[0, 2, 4, 6, 8, 22, 44, 66, 88, 202, 212, 222, 232, 242, 252, 262, 272, 282, 292, 404, 414, 424, 434, 444, 454, 464, 474, 484, 494, 606, 616, 626, 636, 646, 656, 666, 676, 686, 696, 808, 818, 828, 838, 848, 858, 868, 878, 888, 898]"
   ]
  },
  {
   "cell_type": "code",
   "execution_count": 9,
   "id": "8d4238ed",
   "metadata": {},
   "outputs": [
    {
     "name": "stdout",
     "output_type": "stream",
     "text": [
      "[0, 2, 4, 6, 8, 22, 44]\n"
     ]
    }
   ],
   "source": [
    "n = 50\n",
    "num_n, num_palind = [], []\n",
    "for i in range(n):\n",
    "    if i%2 == 0: num_n.append(i)\n",
    "        \n",
    "for j in num_n:\n",
    "    if(str(j)[::-1] == str(j)): num_palind.append(j)\n",
    "        \n",
    "print(num_palind)"
   ]
  },
  {
   "cell_type": "markdown",
   "id": "6ca68f0d",
   "metadata": {},
   "source": [
    "10. Dado um conjunto de números com n objetos de cor vermelha, branca, ou azul, ordená-los de modo a que os objetos da mesma cor sejam adjacentes, com as cores na ordem vermelha, branca, e azul.\n",
    "\n",
    "- Utilizaremos os números inteiros 0, 1, e 2 para representar a cor vermelha, branca, e azul, respectivamente.\n",
    "\n",
    "- Deverá resolver este problema sem utilizar a função de ordenação de bibliotecas.\n",
    "\n",
    " \n",
    "- Exemplo 1:\n",
    "\n",
    "Entrada:  nums   = [2,0,2,1,1,1,0].\n",
    "\n",
    "Saída: [0,0,1,1,2,2]\n",
    "\n",
    "Exemplo 2:\n",
    "\n",
    "Entrada: nums = [2,0,1]\n",
    "\n",
    "Saída  : [0,1,2]\n",
    "\n",
    "\n",
    "Restrições:\n",
    "\n",
    "```n == nums.length\n",
    "1 <= n <= 300\n",
    "nums[i] ou é 0, 1, ou 2.```"
   ]
  },
  {
   "cell_type": "code",
   "execution_count": 262,
   "id": "df0a9625",
   "metadata": {},
   "outputs": [
    {
     "name": "stdout",
     "output_type": "stream",
     "text": [
      "[0, 0, 1, 1, 1, 2, 2]\n"
     ]
    }
   ],
   "source": [
    "nums = [2,0,2,1,1,1,0]\n",
    "numsOrd0, numsOrd1, numsOrd2 = [], [], []\n",
    "for value in nums:\n",
    "    if value == 0: numsOrd0.append(value)\n",
    "    elif value == 1: numsOrd1.append(value)\n",
    "    else: numsOrd2.append(value)\n",
    "        \n",
    "print(numsOrd0+numsOrd1+numsOrd2)"
   ]
  },
  {
   "cell_type": "markdown",
   "id": "d57a8e2a",
   "metadata": {},
   "source": [
    "11. Dado um array de número inteiro, retorne a diferença máxima entre dois elementos sucessivos na sua forma ordenada. Se a matriz contiver menos de dois elementos,  retornar 0.\n",
    "\n",
    "Exemplo 1:\n",
    "\n",
    "Entrada: nums = [3,6,9,1].\n",
    "Saída: 3\n",
    "Explicação: A forma ordenada da matriz é [1,3,6,9], ou (3,6) ou (6,9) tem a diferença máxima 3.\n",
    "\n",
    "Exemplo 2:\n",
    "\n",
    "Entrada: nums = [10]\n",
    "Saída : 0\n",
    "Explicação: A matriz contém menos de 2 elementos, portanto devolve 0.\n",
    " \n",
    "\n",
    "Restrições:\n",
    "\n",
    "1 <= nums.length <= 10**5\n",
    "0 <= nums[i] <= 10**9"
   ]
  },
  {
   "cell_type": "code",
   "execution_count": 255,
   "id": "434a2558",
   "metadata": {},
   "outputs": [
    {
     "name": "stdout",
     "output_type": "stream",
     "text": [
      "3\n"
     ]
    }
   ],
   "source": [
    "nums = [3,6,9,1]\n",
    "numsdif = []\n",
    "def difMax(nums):\n",
    "    if len(nums) < 2:\n",
    "        return 0\n",
    "    else: \n",
    "        for index, value in enumerate(nums):\n",
    "            if(index != len(nums)-1):\n",
    "                numsdif.append(nums[index+1]-value)\n",
    "        return max(numsdif)\n",
    "print(difMax(sorted(nums)))"
   ]
  }
 ],
 "metadata": {
  "kernelspec": {
   "display_name": "Python 3 (ipykernel)",
   "language": "python",
   "name": "python3"
  },
  "language_info": {
   "codemirror_mode": {
    "name": "ipython",
    "version": 3
   },
   "file_extension": ".py",
   "mimetype": "text/x-python",
   "name": "python",
   "nbconvert_exporter": "python",
   "pygments_lexer": "ipython3",
   "version": "3.9.12"
  }
 },
 "nbformat": 4,
 "nbformat_minor": 5
}
