{
 "cells": [
  {
   "cell_type": "code",
   "execution_count": 2,
   "id": "1bd27f27",
   "metadata": {},
   "outputs": [],
   "source": [
    "family = {'mom': 'merge', 'size': 6, 'kids': ['bart', 'lisa'], 'baby': 'maggie'}"
   ]
  },
  {
   "cell_type": "code",
   "execution_count": 3,
   "id": "f1875d19",
   "metadata": {},
   "outputs": [
    {
     "data": {
      "text/plain": [
       "'bart'"
      ]
     },
     "execution_count": 3,
     "metadata": {},
     "output_type": "execute_result"
    }
   ],
   "source": [
    "family['kids'][0]"
   ]
  },
  {
   "cell_type": "code",
   "execution_count": 4,
   "id": "91ad6c2c",
   "metadata": {},
   "outputs": [],
   "source": [
    "family['kids'].remove('lisa')"
   ]
  },
  {
   "cell_type": "code",
   "execution_count": 5,
   "id": "0c21f52f",
   "metadata": {},
   "outputs": [
    {
     "data": {
      "text/plain": [
       "{'mom': 'merge', 'size': 6, 'kids': ['bart'], 'baby': 'maggie'}"
      ]
     },
     "execution_count": 5,
     "metadata": {},
     "output_type": "execute_result"
    }
   ],
   "source": [
    "family"
   ]
  },
  {
   "cell_type": "code",
   "execution_count": null,
   "id": "39fdde31",
   "metadata": {},
   "outputs": [],
   "source": [
    "'O tamanho'"
   ]
  },
  {
   "cell_type": "markdown",
   "id": "9c2a8cfa",
   "metadata": {},
   "source": [
    "### Set\n",
    "> Conjunto - não tem ordem = interável - imutável - todos os tipos de dados"
   ]
  },
  {
   "cell_type": "code",
   "execution_count": 6,
   "id": "0687c4ab",
   "metadata": {},
   "outputs": [],
   "source": [
    "### Set vazio \n",
    "empty_set=set()"
   ]
  },
  {
   "cell_type": "code",
   "execution_count": 7,
   "id": "536658bc",
   "metadata": {},
   "outputs": [],
   "source": [
    "linguas = {'python', 'r', 'java'}"
   ]
  },
  {
   "cell_type": "code",
   "execution_count": 8,
   "id": "f33f6fa2",
   "metadata": {},
   "outputs": [
    {
     "data": {
      "text/plain": [
       "{'java', 'python', 'r'}"
      ]
     },
     "execution_count": 8,
     "metadata": {},
     "output_type": "execute_result"
    }
   ],
   "source": [
    "linguas"
   ]
  },
  {
   "cell_type": "code",
   "execution_count": 9,
   "id": "3f6f2e53",
   "metadata": {},
   "outputs": [],
   "source": [
    "cobras = set(['Viper', 'python', 'naja'])"
   ]
  },
  {
   "cell_type": "code",
   "execution_count": 10,
   "id": "7d1c6680",
   "metadata": {},
   "outputs": [
    {
     "data": {
      "text/plain": [
       "3"
      ]
     },
     "execution_count": 10,
     "metadata": {},
     "output_type": "execute_result"
    }
   ],
   "source": [
    "len(linguas)"
   ]
  },
  {
   "cell_type": "code",
   "execution_count": null,
   "id": "50e5ee55",
   "metadata": {},
   "outputs": [],
   "source": []
  },
  {
   "cell_type": "code",
   "execution_count": null,
   "id": "5a10db42",
   "metadata": {},
   "outputs": [],
   "source": []
  },
  {
   "cell_type": "code",
   "execution_count": null,
   "id": "81ad55c5",
   "metadata": {},
   "outputs": [],
   "source": []
  },
  {
   "cell_type": "code",
   "execution_count": 11,
   "id": "c965c954",
   "metadata": {},
   "outputs": [
    {
     "data": {
      "text/plain": [
       "True"
      ]
     },
     "execution_count": 11,
     "metadata": {},
     "output_type": "execute_result"
    }
   ],
   "source": [
    "'python' in cobras"
   ]
  },
  {
   "cell_type": "code",
   "execution_count": 12,
   "id": "159a4e26",
   "metadata": {},
   "outputs": [
    {
     "data": {
      "text/plain": [
       "{'python'}"
      ]
     },
     "execution_count": 12,
     "metadata": {},
     "output_type": "execute_result"
    }
   ],
   "source": [
    "linguas & cobras  # interseção"
   ]
  },
  {
   "cell_type": "code",
   "execution_count": 13,
   "id": "bbd73912",
   "metadata": {},
   "outputs": [
    {
     "data": {
      "text/plain": [
       "{'Viper', 'java', 'naja', 'python', 'r'}"
      ]
     },
     "execution_count": 13,
     "metadata": {},
     "output_type": "execute_result"
    }
   ],
   "source": [
    "linguas | cobras # união"
   ]
  },
  {
   "cell_type": "code",
   "execution_count": 15,
   "id": "2033feda",
   "metadata": {},
   "outputs": [
    {
     "data": {
      "text/plain": [
       "{'java', 'r'}"
      ]
     },
     "execution_count": 15,
     "metadata": {},
     "output_type": "execute_result"
    }
   ],
   "source": [
    " linguas - cobras # difereça"
   ]
  },
  {
   "cell_type": "code",
   "execution_count": 16,
   "id": "b61af5ce",
   "metadata": {},
   "outputs": [
    {
     "data": {
      "text/plain": [
       "{'Viper', 'naja'}"
      ]
     },
     "execution_count": 16,
     "metadata": {},
     "output_type": "execute_result"
    }
   ],
   "source": [
    "cobras - linguas"
   ]
  },
  {
   "cell_type": "code",
   "execution_count": 17,
   "id": "c0f76ac7",
   "metadata": {},
   "outputs": [],
   "source": [
    "linguas.add('sql')"
   ]
  },
  {
   "cell_type": "code",
   "execution_count": 18,
   "id": "50ce3178",
   "metadata": {},
   "outputs": [],
   "source": [
    "linguas.remove('java')"
   ]
  },
  {
   "cell_type": "code",
   "execution_count": 19,
   "id": "f725c8a5",
   "metadata": {},
   "outputs": [],
   "source": [
    "linguas.discard('c')"
   ]
  },
  {
   "cell_type": "code",
   "execution_count": 20,
   "id": "efa5fde0",
   "metadata": {},
   "outputs": [],
   "source": [
    "linguas.add('java')"
   ]
  },
  {
   "cell_type": "code",
   "execution_count": 21,
   "id": "9a27caff",
   "metadata": {},
   "outputs": [],
   "source": [
    "linguas.discard('java')"
   ]
  },
  {
   "cell_type": "code",
   "execution_count": 22,
   "id": "50ad9a2c",
   "metadata": {},
   "outputs": [
    {
     "data": {
      "text/plain": [
       "{'python', 'r', 'sql'}"
      ]
     },
     "execution_count": 22,
     "metadata": {},
     "output_type": "execute_result"
    }
   ],
   "source": [
    "linguas"
   ]
  },
  {
   "cell_type": "code",
   "execution_count": 23,
   "id": "ce6a5366",
   "metadata": {},
   "outputs": [
    {
     "data": {
      "text/plain": [
       "'python'"
      ]
     },
     "execution_count": 23,
     "metadata": {},
     "output_type": "execute_result"
    }
   ],
   "source": [
    "linguas.pop()"
   ]
  },
  {
   "cell_type": "code",
   "execution_count": 24,
   "id": "de2c7e8e",
   "metadata": {},
   "outputs": [
    {
     "data": {
      "text/plain": [
       "{'r', 'sql'}"
      ]
     },
     "execution_count": 24,
     "metadata": {},
     "output_type": "execute_result"
    }
   ],
   "source": [
    "linguas"
   ]
  },
  {
   "cell_type": "code",
   "execution_count": 25,
   "id": "3b2a978e",
   "metadata": {},
   "outputs": [],
   "source": [
    "linguas.clear()"
   ]
  },
  {
   "cell_type": "code",
   "execution_count": 26,
   "id": "478e7d9b",
   "metadata": {},
   "outputs": [
    {
     "data": {
      "text/plain": [
       "set()"
      ]
     },
     "execution_count": 26,
     "metadata": {},
     "output_type": "execute_result"
    }
   ],
   "source": [
    "linguas"
   ]
  },
  {
   "cell_type": "code",
   "execution_count": 28,
   "id": "03df8508",
   "metadata": {},
   "outputs": [],
   "source": [
    "linguas.update(['go', 'spark'])"
   ]
  },
  {
   "cell_type": "code",
   "execution_count": 29,
   "id": "a00e902c",
   "metadata": {},
   "outputs": [
    {
     "data": {
      "text/plain": [
       "{'go', 'spark'}"
      ]
     },
     "execution_count": 29,
     "metadata": {},
     "output_type": "execute_result"
    }
   ],
   "source": [
    "linguas"
   ]
  },
  {
   "cell_type": "code",
   "execution_count": 31,
   "id": "6134d68d",
   "metadata": {},
   "outputs": [
    {
     "data": {
      "text/plain": [
       "[0, 2, 4, 8, 9]"
      ]
     },
     "execution_count": 31,
     "metadata": {},
     "output_type": "execute_result"
    }
   ],
   "source": [
    "sorted(set([9, 0, 2, 4, 8]))"
   ]
  },
  {
   "cell_type": "markdown",
   "id": "3872a3dc",
   "metadata": {},
   "source": [
    "### Função"
   ]
  },
  {
   "cell_type": "code",
   "execution_count": 32,
   "id": "529607b8",
   "metadata": {},
   "outputs": [],
   "source": [
    "def imprima():\n",
    "    print('nesse texto')"
   ]
  },
  {
   "cell_type": "code",
   "execution_count": 33,
   "id": "2fa01959",
   "metadata": {},
   "outputs": [
    {
     "name": "stdout",
     "output_type": "stream",
     "text": [
      "nesse texto\n"
     ]
    }
   ],
   "source": [
    "imprima()"
   ]
  },
  {
   "cell_type": "code",
   "execution_count": 34,
   "id": "14119363",
   "metadata": {},
   "outputs": [],
   "source": [
    "def imprima(x):\n",
    "    print(x)"
   ]
  },
  {
   "cell_type": "code",
   "execution_count": 37,
   "id": "83059ec0",
   "metadata": {},
   "outputs": [
    {
     "name": "stdout",
     "output_type": "stream",
     "text": [
      "essa string\n"
     ]
    }
   ],
   "source": [
    "imprima('essa string')"
   ]
  },
  {
   "cell_type": "code",
   "execution_count": 38,
   "id": "17f09a55",
   "metadata": {},
   "outputs": [
    {
     "name": "stdout",
     "output_type": "stream",
     "text": [
      "3\n"
     ]
    }
   ],
   "source": [
    "n=imprima(3)"
   ]
  },
  {
   "cell_type": "code",
   "execution_count": 39,
   "id": "1be28ff9",
   "metadata": {},
   "outputs": [],
   "source": [
    "n"
   ]
  },
  {
   "cell_type": "code",
   "execution_count": 40,
   "id": "c3a38bbe",
   "metadata": {},
   "outputs": [],
   "source": [
    "def quadrado(x):\n",
    "    return x**2"
   ]
  },
  {
   "cell_type": "code",
   "execution_count": 41,
   "id": "0df3cffc",
   "metadata": {},
   "outputs": [
    {
     "data": {
      "text/plain": [
       "9"
      ]
     },
     "execution_count": 41,
     "metadata": {},
     "output_type": "execute_result"
    }
   ],
   "source": [
    "quadrado(3)"
   ]
  },
  {
   "cell_type": "code",
   "execution_count": 42,
   "id": "c809ad24",
   "metadata": {},
   "outputs": [],
   "source": [
    "n = quadrado(3)"
   ]
  },
  {
   "cell_type": "code",
   "execution_count": 43,
   "id": "be27d35b",
   "metadata": {},
   "outputs": [
    {
     "data": {
      "text/plain": [
       "9"
      ]
     },
     "execution_count": 43,
     "metadata": {},
     "output_type": "execute_result"
    }
   ],
   "source": [
    "n"
   ]
  },
  {
   "cell_type": "code",
   "execution_count": 45,
   "id": "e155d9b5",
   "metadata": {},
   "outputs": [],
   "source": [
    "def calc(a,b,op=\"add\"):\n",
    "    if op=='add':\n",
    "        return a+b\n",
    "    elif op=='sub':\n",
    "        return a-b\n",
    "    else:\n",
    "        print('operacao invalida')"
   ]
  },
  {
   "cell_type": "code",
   "execution_count": 47,
   "id": "75047d8c",
   "metadata": {},
   "outputs": [
    {
     "data": {
      "text/plain": [
       "14"
      ]
     },
     "execution_count": 47,
     "metadata": {},
     "output_type": "execute_result"
    }
   ],
   "source": [
    "calc(10, 4, op=\"add\")"
   ]
  },
  {
   "cell_type": "code",
   "execution_count": 48,
   "id": "a4fb2360",
   "metadata": {},
   "outputs": [
    {
     "data": {
      "text/plain": [
       "6"
      ]
     },
     "execution_count": 48,
     "metadata": {},
     "output_type": "execute_result"
    }
   ],
   "source": [
    "calc(10, 4, \"sub\")"
   ]
  },
  {
   "cell_type": "code",
   "execution_count": 49,
   "id": "279ab1a5",
   "metadata": {},
   "outputs": [
    {
     "data": {
      "text/plain": [
       "14"
      ]
     },
     "execution_count": 49,
     "metadata": {},
     "output_type": "execute_result"
    }
   ],
   "source": [
    "calc(10, 4)"
   ]
  },
  {
   "cell_type": "code",
   "execution_count": 50,
   "id": "05934e8f",
   "metadata": {},
   "outputs": [],
   "source": [
    "def stub():\n",
    "    pass"
   ]
  },
  {
   "cell_type": "code",
   "execution_count": 52,
   "id": "dffa9c1e",
   "metadata": {},
   "outputs": [],
   "source": [
    "def min_max(nums):\n",
    "    return min(nums), max(nums)"
   ]
  },
  {
   "cell_type": "code",
   "execution_count": 53,
   "id": "d3e05255",
   "metadata": {},
   "outputs": [],
   "source": [
    "nums = [1,2,3]"
   ]
  },
  {
   "cell_type": "code",
   "execution_count": 54,
   "id": "641e031e",
   "metadata": {},
   "outputs": [],
   "source": [
    "min_max_num = min_max(nums)"
   ]
  },
  {
   "cell_type": "code",
   "execution_count": 55,
   "id": "1847c795",
   "metadata": {},
   "outputs": [
    {
     "data": {
      "text/plain": [
       "(1, 3)"
      ]
     },
     "execution_count": 55,
     "metadata": {},
     "output_type": "execute_result"
    }
   ],
   "source": [
    "min_max_num"
   ]
  },
  {
   "cell_type": "code",
   "execution_count": 56,
   "id": "a4558dd2",
   "metadata": {},
   "outputs": [],
   "source": [
    "min_num, max_num = min_max(nums)"
   ]
  },
  {
   "cell_type": "code",
   "execution_count": 57,
   "id": "d6619476",
   "metadata": {},
   "outputs": [
    {
     "data": {
      "text/plain": [
       "1"
      ]
     },
     "execution_count": 57,
     "metadata": {},
     "output_type": "execute_result"
    }
   ],
   "source": [
    "min_num"
   ]
  },
  {
   "cell_type": "code",
   "execution_count": 58,
   "id": "5e47054f",
   "metadata": {},
   "outputs": [
    {
     "data": {
      "text/plain": [
       "3"
      ]
     },
     "execution_count": 58,
     "metadata": {},
     "output_type": "execute_result"
    }
   ],
   "source": [
    "max_num"
   ]
  },
  {
   "cell_type": "code",
   "execution_count": 59,
   "id": "b193d0ee",
   "metadata": {},
   "outputs": [],
   "source": [
    "def quadrado(x):\n",
    "    return x**2"
   ]
  },
  {
   "cell_type": "code",
   "execution_count": 63,
   "id": "fd2c3b8b",
   "metadata": {},
   "outputs": [],
   "source": [
    "quadrado = lambda x: x ** 2"
   ]
  },
  {
   "cell_type": "code",
   "execution_count": 64,
   "id": "00f83fc9",
   "metadata": {},
   "outputs": [
    {
     "data": {
      "text/plain": [
       "9"
      ]
     },
     "execution_count": 64,
     "metadata": {},
     "output_type": "execute_result"
    }
   ],
   "source": [
    "quadrado(3)"
   ]
  },
  {
   "cell_type": "code",
   "execution_count": 65,
   "id": "9f255115",
   "metadata": {},
   "outputs": [],
   "source": [
    "simpsons = ['homer', 'marge', 'bart']"
   ]
  },
  {
   "cell_type": "code",
   "execution_count": 66,
   "id": "e73b3dab",
   "metadata": {},
   "outputs": [],
   "source": [
    "def last_letter(word):\n",
    "    return word[-1]"
   ]
  },
  {
   "cell_type": "code",
   "execution_count": 67,
   "id": "c7e9cd95",
   "metadata": {},
   "outputs": [
    {
     "data": {
      "text/plain": [
       "'e'"
      ]
     },
     "execution_count": 67,
     "metadata": {},
     "output_type": "execute_result"
    }
   ],
   "source": [
    "last_letter('marge')"
   ]
  },
  {
   "cell_type": "code",
   "execution_count": 68,
   "id": "a0952f9d",
   "metadata": {},
   "outputs": [
    {
     "data": {
      "text/plain": [
       "['marge', 'homer', 'bart']"
      ]
     },
     "execution_count": 68,
     "metadata": {},
     "output_type": "execute_result"
    }
   ],
   "source": [
    "sorted(simpsons, key=last_letter)"
   ]
  },
  {
   "cell_type": "code",
   "execution_count": 71,
   "id": "7f3d630f",
   "metadata": {},
   "outputs": [
    {
     "data": {
      "text/plain": [
       "['marge', 'homer', 'bart']"
      ]
     },
     "execution_count": 71,
     "metadata": {},
     "output_type": "execute_result"
    }
   ],
   "source": [
    "sorted(simpsons, key=lambda word:word[-1])"
   ]
  },
  {
   "cell_type": "markdown",
   "id": "a8500a5c",
   "metadata": {},
   "source": [
    "### Loop for - while"
   ]
  },
  {
   "cell_type": "code",
   "execution_count": 72,
   "id": "a0cc3526",
   "metadata": {},
   "outputs": [
    {
     "data": {
      "text/plain": [
       "range(0, 3)"
      ]
     },
     "execution_count": 72,
     "metadata": {},
     "output_type": "execute_result"
    }
   ],
   "source": [
    "range(0, 3)"
   ]
  },
  {
   "cell_type": "code",
   "execution_count": 74,
   "id": "b3920f70",
   "metadata": {},
   "outputs": [
    {
     "data": {
      "text/plain": [
       "range(0, 3)"
      ]
     },
     "execution_count": 74,
     "metadata": {},
     "output_type": "execute_result"
    }
   ],
   "source": [
    "range(3)"
   ]
  },
  {
   "cell_type": "code",
   "execution_count": 73,
   "id": "f9eca0b1",
   "metadata": {},
   "outputs": [
    {
     "data": {
      "text/plain": [
       "range(0, 5, 2)"
      ]
     },
     "execution_count": 73,
     "metadata": {},
     "output_type": "execute_result"
    }
   ],
   "source": [
    "range(0, 5, 2)"
   ]
  },
  {
   "cell_type": "code",
   "execution_count": 75,
   "id": "af31cd63",
   "metadata": {},
   "outputs": [],
   "source": [
    "frutas = ['banana', 'maca', 'laranja']"
   ]
  },
  {
   "cell_type": "code",
   "execution_count": 76,
   "id": "6e2b852d",
   "metadata": {},
   "outputs": [
    {
     "name": "stdout",
     "output_type": "stream",
     "text": [
      "BANANA\n",
      "MACA\n",
      "LARANJA\n"
     ]
    }
   ],
   "source": [
    "for i in range(len(frutas)):\n",
    "    print(frutas[i].upper())"
   ]
  },
  {
   "cell_type": "code",
   "execution_count": 77,
   "id": "33b6fa34",
   "metadata": {},
   "outputs": [
    {
     "name": "stdout",
     "output_type": "stream",
     "text": [
      "BANANA\n",
      "MACA\n",
      "LARANJA\n"
     ]
    }
   ],
   "source": [
    "for fruta in frutas:\n",
    "    print(fruta.upper())"
   ]
  },
  {
   "cell_type": "code",
   "execution_count": null,
   "id": "3c30aac8",
   "metadata": {},
   "outputs": [],
   "source": [
    "for fruta in frutas:\n",
    "    print(fruta.upper())"
   ]
  },
  {
   "cell_type": "code",
   "execution_count": 91,
   "id": "5f093409",
   "metadata": {},
   "outputs": [],
   "source": [
    "family = [('mom', 'merge'), ('size', 6), ('kids', ['bart']), ('baby', 'maggie')]"
   ]
  },
  {
   "cell_type": "code",
   "execution_count": 92,
   "id": "3a4d83f0",
   "metadata": {},
   "outputs": [
    {
     "ename": "AttributeError",
     "evalue": "'list' object has no attribute 'items'",
     "output_type": "error",
     "traceback": [
      "\u001b[1;31m---------------------------------------------------------------------------\u001b[0m",
      "\u001b[1;31mAttributeError\u001b[0m                            Traceback (most recent call last)",
      "Input \u001b[1;32mIn [92]\u001b[0m, in \u001b[0;36m<cell line: 1>\u001b[1;34m()\u001b[0m\n\u001b[1;32m----> 1\u001b[0m \u001b[38;5;28;01mfor\u001b[39;00m key, value \u001b[38;5;129;01min\u001b[39;00m \u001b[43mfamily\u001b[49m\u001b[38;5;241;43m.\u001b[39;49m\u001b[43mitems\u001b[49m(): \n\u001b[0;32m      2\u001b[0m     \u001b[38;5;28mprint\u001b[39m(key, value)\n",
      "\u001b[1;31mAttributeError\u001b[0m: 'list' object has no attribute 'items'"
     ]
    }
   ],
   "source": [
    "for key, value in family.items(): \n",
    "    print(key, value)"
   ]
  },
  {
   "cell_type": "code",
   "execution_count": 87,
   "id": "453db80f",
   "metadata": {},
   "outputs": [
    {
     "name": "stdout",
     "output_type": "stream",
     "text": [
      "0 banana\n",
      "1 maca\n",
      "2 laranja\n"
     ]
    }
   ],
   "source": [
    "for index, fruta in enumerate(frutas):\n",
    "    print(index, fruta)"
   ]
  },
  {
   "cell_type": "code",
   "execution_count": 89,
   "id": "1d5829f5",
   "metadata": {},
   "outputs": [
    {
     "name": "stdout",
     "output_type": "stream",
     "text": [
      "encontrei\n"
     ]
    }
   ],
   "source": [
    "for fruta in frutas:\n",
    "    if fruta == 'banana':\n",
    "        print('encontrei banana')\n",
    "        break\n",
    "else:\n",
    "    print('nao encontre')"
   ]
  },
  {
   "cell_type": "code",
   "execution_count": 94,
   "id": "bf272319",
   "metadata": {},
   "outputs": [
    {
     "name": "stdout",
     "output_type": "stream",
     "text": [
      "isso será impresso 5x\n",
      "isso será impresso 5x\n",
      "isso será impresso 5x\n",
      "isso será impresso 5x\n",
      "isso será impresso 5x\n"
     ]
    }
   ],
   "source": [
    "count = 0 \n",
    "while count < 5:\n",
    "    print(\"isso será impresso 5x\")\n",
    "    count += 1"
   ]
  },
  {
   "cell_type": "code",
   "execution_count": 95,
   "id": "dfc50db6",
   "metadata": {},
   "outputs": [
    {
     "data": {
      "text/plain": [
       "[1, 8, 27, 64, 125]"
      ]
     },
     "execution_count": 95,
     "metadata": {},
     "output_type": "execute_result"
    }
   ],
   "source": [
    "nums=[1,2,3,4,5]\n",
    "cubs=[]\n",
    "for num in nums:\n",
    "    cubs.append(num**3)\n",
    "cubs"
   ]
  },
  {
   "cell_type": "code",
   "execution_count": 98,
   "id": "82a78cdf",
   "metadata": {},
   "outputs": [],
   "source": [
    "cubes = [num**3 for num in nums]"
   ]
  },
  {
   "cell_type": "code",
   "execution_count": 99,
   "id": "013c9c20",
   "metadata": {},
   "outputs": [
    {
     "data": {
      "text/plain": [
       "[1, 8, 27, 64, 125]"
      ]
     },
     "execution_count": 99,
     "metadata": {},
     "output_type": "execute_result"
    }
   ],
   "source": [
    "cubes"
   ]
  },
  {
   "cell_type": "code",
   "execution_count": 101,
   "id": "f38d05ac",
   "metadata": {},
   "outputs": [
    {
     "data": {
      "text/plain": [
       "[8, 64]"
      ]
     },
     "execution_count": 101,
     "metadata": {},
     "output_type": "execute_result"
    }
   ],
   "source": [
    "cubo_de_pares = []\n",
    "for num in nums:\n",
    "    if num%2==0:\n",
    "        cubo_de_pares.append(num**3)\n",
    "cubo_de_pares"
   ]
  },
  {
   "cell_type": "code",
   "execution_count": 104,
   "id": "bfe830d6",
   "metadata": {},
   "outputs": [],
   "source": [
    "cubes = [num**3 for num in nums if num %2 == 0]"
   ]
  },
  {
   "cell_type": "code",
   "execution_count": 105,
   "id": "704515d4",
   "metadata": {},
   "outputs": [
    {
     "data": {
      "text/plain": [
       "[8, 64]"
      ]
     },
     "execution_count": 105,
     "metadata": {},
     "output_type": "execute_result"
    }
   ],
   "source": [
    "cubes"
   ]
  },
  {
   "cell_type": "code",
   "execution_count": 110,
   "id": "c761b240",
   "metadata": {},
   "outputs": [],
   "source": [
    "cubos_e_quadrados = []\n",
    "for num in nums:\n",
    "    if num%2==0:\n",
    "        cubos_e_quadrados.append(num**3)\n",
    "    else:\n",
    "         cubos_e_quadrados.append(num**2)"
   ]
  },
  {
   "cell_type": "code",
   "execution_count": 111,
   "id": "b20cee8f",
   "metadata": {},
   "outputs": [
    {
     "data": {
      "text/plain": [
       "[1, 8, 9, 64, 25]"
      ]
     },
     "execution_count": 111,
     "metadata": {},
     "output_type": "execute_result"
    }
   ],
   "source": [
    "cubos_e_quadrados"
   ]
  },
  {
   "cell_type": "code",
   "execution_count": 112,
   "id": "8cb89706",
   "metadata": {},
   "outputs": [],
   "source": [
    "cubes = [num**3 if num%2 == 0 else num**2 for num in nums]"
   ]
  },
  {
   "cell_type": "code",
   "execution_count": 113,
   "id": "6aa122d4",
   "metadata": {},
   "outputs": [
    {
     "data": {
      "text/plain": [
       "[1, 8, 9, 64, 25]"
      ]
     },
     "execution_count": 113,
     "metadata": {},
     "output_type": "execute_result"
    }
   ],
   "source": [
    "cubes"
   ]
  },
  {
   "cell_type": "code",
   "execution_count": 114,
   "id": "73e0257e",
   "metadata": {},
   "outputs": [],
   "source": [
    "matrix = [[1,2],[3,4]]"
   ]
  },
  {
   "cell_type": "code",
   "execution_count": 119,
   "id": "69a3f572",
   "metadata": {},
   "outputs": [
    {
     "data": {
      "text/plain": [
       "[1, 2, 3, 4]"
      ]
     },
     "execution_count": 119,
     "metadata": {},
     "output_type": "execute_result"
    }
   ],
   "source": [
    "itens = []\n",
    "for row in matrix:\n",
    "    for item in row:\n",
    "        itens.append(item)\n",
    "itens"
   ]
  },
  {
   "cell_type": "code",
   "execution_count": 120,
   "id": "3ab5ef97",
   "metadata": {},
   "outputs": [
    {
     "data": {
      "text/plain": [
       "[1, 2, 3, 4]"
      ]
     },
     "execution_count": 120,
     "metadata": {},
     "output_type": "execute_result"
    }
   ],
   "source": [
    "[item for row in matrix for item in row]"
   ]
  },
  {
   "cell_type": "code",
   "execution_count": 121,
   "id": "44a647d0",
   "metadata": {},
   "outputs": [
    {
     "data": {
      "text/plain": [
       "[1, 2, 3, 4]"
      ]
     },
     "execution_count": 121,
     "metadata": {},
     "output_type": "execute_result"
    }
   ],
   "source": [
    "[item for row in matrix \n",
    "      for item in row]"
   ]
  },
  {
   "cell_type": "code",
   "execution_count": 122,
   "id": "a20c1973",
   "metadata": {},
   "outputs": [],
   "source": [
    "frutas.append('pera')"
   ]
  },
  {
   "cell_type": "code",
   "execution_count": 123,
   "id": "f7d5d6b1",
   "metadata": {},
   "outputs": [
    {
     "data": {
      "text/plain": [
       "['banana', 'maca', 'laranja', 'pera']"
      ]
     },
     "execution_count": 123,
     "metadata": {},
     "output_type": "execute_result"
    }
   ],
   "source": [
    "frutas"
   ]
  },
  {
   "cell_type": "code",
   "execution_count": 124,
   "id": "0e5e4244",
   "metadata": {},
   "outputs": [],
   "source": [
    "tamanho_unico = {len(fruta) for fruta in frutas}"
   ]
  },
  {
   "cell_type": "code",
   "execution_count": 125,
   "id": "d431df09",
   "metadata": {},
   "outputs": [
    {
     "data": {
      "text/plain": [
       "{4, 6, 7}"
      ]
     },
     "execution_count": 125,
     "metadata": {},
     "output_type": "execute_result"
    }
   ],
   "source": [
    "tamanho_unico"
   ]
  },
  {
   "cell_type": "code",
   "execution_count": 126,
   "id": "852cfa1d",
   "metadata": {},
   "outputs": [
    {
     "data": {
      "text/plain": [
       "{'banana': 6, 'maca': 4, 'laranja': 7, 'pera': 4}"
      ]
     },
     "execution_count": 126,
     "metadata": {},
     "output_type": "execute_result"
    }
   ],
   "source": [
    "{fruta:len(fruta) for fruta in frutas}"
   ]
  },
  {
   "cell_type": "code",
   "execution_count": 128,
   "id": "3a56c5d1",
   "metadata": {},
   "outputs": [
    {
     "data": {
      "text/plain": [
       "{'banana': 0, 'maca': 1, 'laranja': 2, 'pera': 3}"
      ]
     },
     "execution_count": 128,
     "metadata": {},
     "output_type": "execute_result"
    }
   ],
   "source": [
    "{fruta:index for index, fruta in enumerate(frutas)}"
   ]
  },
  {
   "cell_type": "code",
   "execution_count": 129,
   "id": "ae928a21",
   "metadata": {},
   "outputs": [],
   "source": [
    "dicionario_frutas = {fruta:len(fruta) for fruta in frutas}"
   ]
  },
  {
   "cell_type": "code",
   "execution_count": 130,
   "id": "a945e1e0",
   "metadata": {},
   "outputs": [
    {
     "data": {
      "text/plain": [
       "{'banana': 6, 'maca': 4, 'laranja': 7, 'pera': 4}"
      ]
     },
     "execution_count": 130,
     "metadata": {},
     "output_type": "execute_result"
    }
   ],
   "source": [
    "dicionario_frutas"
   ]
  },
  {
   "cell_type": "code",
   "execution_count": 131,
   "id": "2d0586ad",
   "metadata": {},
   "outputs": [
    {
     "data": {
      "text/plain": [
       "dict_items([('banana', 6), ('maca', 4), ('laranja', 7), ('pera', 4)])"
      ]
     },
     "execution_count": 131,
     "metadata": {},
     "output_type": "execute_result"
    }
   ],
   "source": [
    "dicionario_frutas.items()"
   ]
  },
  {
   "cell_type": "code",
   "execution_count": 132,
   "id": "8d4df052",
   "metadata": {},
   "outputs": [
    {
     "data": {
      "text/plain": [
       "['banana', 'maca', 'laranja', 'pera']"
      ]
     },
     "execution_count": 132,
     "metadata": {},
     "output_type": "execute_result"
    }
   ],
   "source": [
    "frutas"
   ]
  },
  {
   "cell_type": "code",
   "execution_count": 134,
   "id": "68c4ddf4",
   "metadata": {},
   "outputs": [
    {
     "name": "stdout",
     "output_type": "stream",
     "text": [
      "0 banana\n",
      "1 maca\n",
      "2 laranja\n",
      "3 pera\n"
     ]
    }
   ],
   "source": [
    "for index, fruta in enumerate(frutas):\n",
    "    print(index, fruta)"
   ]
  },
  {
   "cell_type": "code",
   "execution_count": 135,
   "id": "ffef6cf6",
   "metadata": {},
   "outputs": [
    {
     "data": {
      "text/plain": [
       "['banana', 'maca', 'laranja', 'pera']"
      ]
     },
     "execution_count": 135,
     "metadata": {},
     "output_type": "execute_result"
    }
   ],
   "source": [
    "frutas"
   ]
  },
  {
   "cell_type": "code",
   "execution_count": 137,
   "id": "f8b39b2a",
   "metadata": {},
   "outputs": [
    {
     "data": {
      "text/plain": [
       "['banana', 'laranja', 'maca', 'pera']"
      ]
     },
     "execution_count": 137,
     "metadata": {},
     "output_type": "execute_result"
    }
   ],
   "source": [
    "sorted(frutas, key=lambda word: word[0])"
   ]
  },
  {
   "cell_type": "code",
   "execution_count": 138,
   "id": "1b0486db",
   "metadata": {},
   "outputs": [
    {
     "data": {
      "text/plain": [
       "['banana', 'laranja', 'maca', 'pera']"
      ]
     },
     "execution_count": 138,
     "metadata": {},
     "output_type": "execute_result"
    }
   ],
   "source": [
    "sorted(frutas)"
   ]
  },
  {
   "cell_type": "code",
   "execution_count": 139,
   "id": "86dac355",
   "metadata": {},
   "outputs": [
    {
     "name": "stdout",
     "output_type": "stream",
     "text": [
      "0 banana\n",
      "1 maca\n",
      "2 laranja\n",
      "3 pera\n"
     ]
    }
   ],
   "source": [
    "for index, fruta in enumerate(frutas):\n",
    "    print(index, fruta)"
   ]
  },
  {
   "cell_type": "code",
   "execution_count": 140,
   "id": "77ec1d88",
   "metadata": {},
   "outputs": [
    {
     "data": {
      "text/plain": [
       "<map at 0x1e49bb0fdc0>"
      ]
     },
     "execution_count": 140,
     "metadata": {},
     "output_type": "execute_result"
    }
   ],
   "source": [
    "map(len, simpsons)"
   ]
  },
  {
   "cell_type": "code",
   "execution_count": 141,
   "id": "dac27053",
   "metadata": {},
   "outputs": [
    {
     "data": {
      "text/plain": [
       "[5, 5, 4]"
      ]
     },
     "execution_count": 141,
     "metadata": {},
     "output_type": "execute_result"
    }
   ],
   "source": [
    "[len(word) for word in simpsons]"
   ]
  },
  {
   "cell_type": "code",
   "execution_count": 143,
   "id": "1c1c1595",
   "metadata": {},
   "outputs": [
    {
     "data": {
      "text/plain": [
       "<map at 0x1e49bae3ac0>"
      ]
     },
     "execution_count": 143,
     "metadata": {},
     "output_type": "execute_result"
    }
   ],
   "source": [
    "map(lambda word:word[-2], simpsons)"
   ]
  },
  {
   "cell_type": "code",
   "execution_count": 153,
   "id": "115b9f82",
   "metadata": {},
   "outputs": [
    {
     "data": {
      "text/plain": [
       "[5, 5, 4]"
      ]
     },
     "execution_count": 153,
     "metadata": {},
     "output_type": "execute_result"
    }
   ],
   "source": [
    "list(map(len, simpsons))"
   ]
  },
  {
   "cell_type": "code",
   "execution_count": 144,
   "id": "c5bce743",
   "metadata": {},
   "outputs": [
    {
     "data": {
      "text/plain": [
       "['homer', 'marge', 'bart']"
      ]
     },
     "execution_count": 144,
     "metadata": {},
     "output_type": "execute_result"
    }
   ],
   "source": [
    "simpsons"
   ]
  },
  {
   "cell_type": "code",
   "execution_count": 147,
   "id": "bf904fcf",
   "metadata": {},
   "outputs": [
    {
     "data": {
      "text/plain": [
       "['e', 'g', 'r']"
      ]
     },
     "execution_count": 147,
     "metadata": {},
     "output_type": "execute_result"
    }
   ],
   "source": [
    "[(word [-2]) for word in simpsons]"
   ]
  },
  {
   "cell_type": "code",
   "execution_count": 148,
   "id": "29ea6d72",
   "metadata": {},
   "outputs": [
    {
     "data": {
      "text/plain": [
       "range(0, 5)"
      ]
     },
     "execution_count": 148,
     "metadata": {},
     "output_type": "execute_result"
    }
   ],
   "source": [
    "nums = range(5)\n",
    "nums "
   ]
  },
  {
   "cell_type": "code",
   "execution_count": 151,
   "id": "e127e761",
   "metadata": {},
   "outputs": [
    {
     "data": {
      "text/plain": [
       "<filter at 0x1e49bb400d0>"
      ]
     },
     "execution_count": 151,
     "metadata": {},
     "output_type": "execute_result"
    }
   ],
   "source": [
    "filter(lambda x: x%2 == 0, nums)"
   ]
  },
  {
   "cell_type": "code",
   "execution_count": 152,
   "id": "26809ba0",
   "metadata": {},
   "outputs": [
    {
     "data": {
      "text/plain": [
       "[0, 2, 4]"
      ]
     },
     "execution_count": 152,
     "metadata": {},
     "output_type": "execute_result"
    }
   ],
   "source": [
    "[num for num in nums if num %2 == 0]"
   ]
  },
  {
   "cell_type": "code",
   "execution_count": null,
   "id": "45da2173",
   "metadata": {},
   "outputs": [],
   "source": []
  },
  {
   "cell_type": "code",
   "execution_count": null,
   "id": "21cf9dea",
   "metadata": {},
   "outputs": [],
   "source": []
  },
  {
   "cell_type": "code",
   "execution_count": null,
   "id": "4dd85898",
   "metadata": {},
   "outputs": [],
   "source": []
  },
  {
   "cell_type": "code",
   "execution_count": null,
   "id": "581d7f83",
   "metadata": {},
   "outputs": [],
   "source": []
  },
  {
   "cell_type": "code",
   "execution_count": null,
   "id": "dca795a5",
   "metadata": {},
   "outputs": [],
   "source": []
  },
  {
   "cell_type": "code",
   "execution_count": null,
   "id": "d9754485",
   "metadata": {},
   "outputs": [],
   "source": []
  },
  {
   "cell_type": "code",
   "execution_count": null,
   "id": "c4d5a784",
   "metadata": {},
   "outputs": [],
   "source": []
  },
  {
   "cell_type": "code",
   "execution_count": null,
   "id": "ea5a5f27",
   "metadata": {},
   "outputs": [],
   "source": []
  },
  {
   "cell_type": "code",
   "execution_count": null,
   "id": "06164eee",
   "metadata": {},
   "outputs": [],
   "source": []
  },
  {
   "cell_type": "code",
   "execution_count": null,
   "id": "0fa5b984",
   "metadata": {},
   "outputs": [],
   "source": []
  },
  {
   "cell_type": "code",
   "execution_count": null,
   "id": "266fefcf",
   "metadata": {},
   "outputs": [],
   "source": []
  },
  {
   "cell_type": "code",
   "execution_count": null,
   "id": "1c2ad4ed",
   "metadata": {},
   "outputs": [],
   "source": []
  },
  {
   "cell_type": "code",
   "execution_count": null,
   "id": "4e196048",
   "metadata": {},
   "outputs": [],
   "source": []
  },
  {
   "cell_type": "code",
   "execution_count": null,
   "id": "4077ea15",
   "metadata": {},
   "outputs": [],
   "source": []
  },
  {
   "cell_type": "code",
   "execution_count": null,
   "id": "eb2e2916",
   "metadata": {},
   "outputs": [],
   "source": []
  },
  {
   "cell_type": "code",
   "execution_count": null,
   "id": "8d46917b",
   "metadata": {},
   "outputs": [],
   "source": []
  }
 ],
 "metadata": {
  "kernelspec": {
   "display_name": "Python 3 (ipykernel)",
   "language": "python",
   "name": "python3"
  },
  "language_info": {
   "codemirror_mode": {
    "name": "ipython",
    "version": 3
   },
   "file_extension": ".py",
   "mimetype": "text/x-python",
   "name": "python",
   "nbconvert_exporter": "python",
   "pygments_lexer": "ipython3",
   "version": "3.9.12"
  }
 },
 "nbformat": 4,
 "nbformat_minor": 5
}
